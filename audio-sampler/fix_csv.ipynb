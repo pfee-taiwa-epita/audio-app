{
 "cells": [
  {
   "cell_type": "code",
   "execution_count": 5,
   "metadata": {},
   "outputs": [],
   "source": [
    "import pandas as pd\n",
    "from huggingface_hub import HfApi\n",
    "import os"
   ]
  },
  {
   "cell_type": "code",
   "execution_count": null,
   "metadata": {},
   "outputs": [],
   "source": [
    "DATA_PATH = \"../dataset/data\""
   ]
  },
  {
   "cell_type": "code",
   "execution_count": 8,
   "metadata": {},
   "outputs": [],
   "source": [
    "file_list = []\n",
    "\n",
    "for folder in os.listdir(DATA_PATH):\n",
    "    if folder == 'data.csv':\n",
    "        continue\n",
    "    for file in os.listdir(DATA_PATH + folder):\n",
    "        file_list.append(file)"
   ]
  },
  {
   "cell_type": "code",
   "execution_count": null,
   "metadata": {},
   "outputs": [],
   "source": [
    "CSV_PATH = DATA_PATH + '/data.csv'\n",
    "csv = pd.read_csv(CSV_PATH)"
   ]
  },
  {
   "cell_type": "code",
   "execution_count": 11,
   "metadata": {},
   "outputs": [
    {
     "data": {
      "text/plain": [
       "195"
      ]
     },
     "execution_count": 11,
     "metadata": {},
     "output_type": "execute_result"
    }
   ],
   "source": [
    "missing_file_list = []\n",
    "\n",
    "for file in file_list:\n",
    "    if file not in csv['filename'].values:\n",
    "        missing_file_list.append(file)"
   ]
  },
  {
   "cell_type": "code",
   "execution_count": null,
   "metadata": {},
   "outputs": [],
   "source": [
    "current_date = \"2024-01-05 11:00:00\"\n",
    "current_date_timestamp = pd.Timestamp(current_date)\n",
    "name = \"unknown\"\n",
    "ip = \"192.168.1.55\""
   ]
  },
  {
   "cell_type": "code",
   "execution_count": 16,
   "metadata": {},
   "outputs": [],
   "source": [
    "file_id = []\n",
    "label = []\n",
    "user_name = []\n",
    "date = []\n",
    "timestamp = []\n",
    "filename = []\n",
    "user_ip = []\n",
    "is_in_dataset = []\n",
    "hugging_face_link = []\n",
    "\n",
    "\n",
    "for file in missing_file_list:\n",
    "    file_no_ext = file.split('.')[0]\n",
    "    id = file_no_ext.split('-')[1]\n",
    "    lab = file_no_ext.split('-')[0].lower()\n",
    "    \n",
    "\n",
    "    file_id.append(id)\n",
    "    label.append(lab)\n",
    "    user_name.append(name)\n",
    "    date.append(current_date)\n",
    "    timestamp.append(current_date_timestamp)\n",
    "    filename.append(file)\n",
    "    user_ip.append(ip)\n",
    "    is_in_dataset.append('True')\n",
    "    hugging_face_link.append(\"https://huggingface.co/datasets/PFEE-TxE/audio_sampler/blob/main/data/\" + lab + \"/\" + file)\n",
    "\n",
    "missing_df = pd.DataFrame({\n",
    "    'file_id': file_id,\n",
    "    'label': label,\n",
    "    'user_name': user_name,\n",
    "    'date': date,\n",
    "    'timestamp': timestamp,\n",
    "    'filename': filename,\n",
    "    'user_ip': user_ip,\n",
    "    'is_in_dataset': is_in_dataset,\n",
    "    'hugging_face_link': hugging_face_link\n",
    "})\n",
    "\n",
    "merged_df = pd.concat([csv, missing_df])\n",
    "merged_df.to_csv(CSV_PATH, index=False)"
   ]
  },
  {
   "cell_type": "code",
   "execution_count": 19,
   "metadata": {},
   "outputs": [
    {
     "data": {
      "text/plain": [
       "'https://huggingface.co/datasets/PFEE-TxE/audio_sampler/blob/main/data/data.csv'"
      ]
     },
     "execution_count": 19,
     "metadata": {},
     "output_type": "execute_result"
    }
   ],
   "source": [
    "api = HfApi()\n",
    "api.upload_file(\n",
    "    path_or_fileobj=CSV_PATH,\n",
    "    path_in_repo=\"data/data.csv\",\n",
    "    repo_id=\"PFEE-TxE/audio_sampler\",\n",
    "    repo_type=\"dataset\",\n",
    ")"
   ]
  }
 ],
 "metadata": {
  "kernelspec": {
   "display_name": "Python 3",
   "language": "python",
   "name": "python3"
  },
  "language_info": {
   "codemirror_mode": {
    "name": "ipython",
    "version": 3
   },
   "file_extension": ".py",
   "mimetype": "text/x-python",
   "name": "python",
   "nbconvert_exporter": "python",
   "pygments_lexer": "ipython3",
   "version": "3.10.13"
  }
 },
 "nbformat": 4,
 "nbformat_minor": 2
}

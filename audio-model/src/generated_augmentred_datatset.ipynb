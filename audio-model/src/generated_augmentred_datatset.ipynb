{
 "cells": [
  {
   "cell_type": "code",
   "execution_count": null,
   "metadata": {},
   "outputs": [],
   "source": [
    "!pip install pydub\n",
    "!pip install huggingface_hub"
   ]
  },
  {
   "cell_type": "code",
   "execution_count": null,
   "metadata": {},
   "outputs": [],
   "source": [
    "from huggingface_hub import snapshot_download, notebook_login\n",
    "from pydub import AudioSegment\n",
    "from tqdm import tqdm\n",
    "\n",
    "import random\n",
    "import os\n",
    "import shutil"
   ]
  },
  {
   "cell_type": "code",
   "execution_count": null,
   "metadata": {},
   "outputs": [],
   "source": [
    "notebook_login()"
   ]
  },
  {
   "cell_type": "code",
   "execution_count": null,
   "metadata": {},
   "outputs": [],
   "source": [
    "AUGMENTED_DATASET_FOLDER = \"dataset/dataset_augmented\"\n",
    "DATASET_FOLDER = \"dataset/data\"\n",
    "NOISE_FOLDER = \"dataset/noise\""
   ]
  },
  {
   "cell_type": "code",
   "execution_count": null,
   "metadata": {},
   "outputs": [],
   "source": [
    "snapshot_download(\"PFEE-TxE/audio_sampler\", repo_type=\"dataset\", local_dir=DATASET_FOLDER)"
   ]
  },
  {
   "cell_type": "code",
   "execution_count": null,
   "metadata": {},
   "outputs": [],
   "source": [
    "def copy_data_to_augmented_dataset():\n",
    "    source_dir = DATASET_FOLDER\n",
    "    dest_dir = AUGMENTED_DATASET_FOLDER\n",
    "\n",
    "    if os.path.exists(dest_dir):\n",
    "        shutil.rmtree(dest_dir)\n",
    "\n",
    "    os.makedirs(dest_dir)\n",
    "\n",
    "    for subdir in os.listdir(source_dir):\n",
    "        subdir_path = os.path.join(source_dir, subdir)\n",
    "\n",
    "        if os.path.isdir(subdir_path):\n",
    "            for file in os.listdir(subdir_path):\n",
    "                file_path = os.path.join(subdir_path, file)\n",
    "                shutil.copy(file_path, dest_dir)\n",
    "\n",
    "def merge_audio_with_noise(record_file: str, noise_file: str, noise_name: str):\n",
    "    original = AudioSegment.from_file(record_file)\n",
    "    background_noise = AudioSegment.from_file(noise_file) - 30\n",
    "\n",
    "    background_duration = len(background_noise)\n",
    "\n",
    "    start_point = random.randint(0, background_duration - 2000)\n",
    "    selected_noise = background_noise[start_point:start_point + 2000]\n",
    "\n",
    "    combined = original.overlay(selected_noise)\n",
    "\n",
    "    new_file_name = record_file[:-4] + '_' + noise_name + \".wav\"\n",
    "\n",
    "    combined.export(new_file_name, format='wav')\n",
    "\n",
    "def pitch_shift(audio_file, semitones):\n",
    "    song = AudioSegment.from_file(audio_file, format=\"wav\")\n",
    "    shifted_song = song._spawn(song.raw_data, overrides={\n",
    "        \"frame_rate\": int(song.frame_rate * (2 ** (semitones / 12.0)))\n",
    "    }).set_frame_rate(song.frame_rate)\n",
    "\n",
    "    sign = 'plus' if semitones >= 0 else 'minus'\n",
    "    \n",
    "    new_file_name = audio_file[:-4] + \"_\" + sign + \"_\" + str(abs(semitones)) + \".wav\"\n",
    "\n",
    "    shifted_song.export(new_file_name, format=\"wav\")\n",
    "\n",
    "\n",
    "def generate_augmented_dataset(semitones: [int], noises: [str]) -> None:\n",
    "    copy_data_to_augmented_dataset()\n",
    "    folder = AUGMENTED_DATASET_FOLDER\n",
    "\n",
    "    for file in os.listdir(folder):\n",
    "        path = os.path.join(folder, file)\n",
    "\n",
    "        if os.path.isfile(path):\n",
    "            for semitone in semitones:\n",
    "                pitch_shift(AUGMENTED_DATASET_FOLDER + '/' + file, semitone)\n",
    "\n",
    "    for file in tqdm(os.listdir(folder), desc=\"Processing Files\"):\n",
    "        path = os.path.join(folder, file)\n",
    "\n",
    "        if os.path.isfile(path):\n",
    "            for noise in noises:\n",
    "                merge_audio_with_noise(AUGMENTED_DATASET_FOLDER + '/' + file, NOISE_FOLDER + '/' + noise + '.wav', noise)"
   ]
  },
  {
   "cell_type": "code",
   "execution_count": null,
   "metadata": {},
   "outputs": [],
   "source": [
    "semitones = [-1, 1]\n",
    "noises = [\"city\", \"classroom\", \"forest\", \"rain\"]"
   ]
  },
  {
   "cell_type": "code",
   "execution_count": null,
   "metadata": {},
   "outputs": [],
   "source": [
    "generate_augmented_dataset(semitones, noises)"
   ]
  }
 ],
 "metadata": {
  "language_info": {
   "name": "python"
  }
 },
 "nbformat": 4,
 "nbformat_minor": 2
}

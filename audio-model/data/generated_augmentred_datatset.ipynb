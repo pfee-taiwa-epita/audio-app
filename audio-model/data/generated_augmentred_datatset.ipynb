{
 "cells": [
  {
   "cell_type": "code",
   "execution_count": null,
   "metadata": {},
   "outputs": [],
   "source": [
    "!pip install pydub\n",
    "!pip install huggingface_hub"
   ]
  },
  {
   "cell_type": "code",
   "execution_count": 9,
   "metadata": {},
   "outputs": [],
   "source": [
    "from huggingface_hub import snapshot_download, notebook_login\n",
    "from pydub import AudioSegment\n",
    "from tqdm import tqdm\n",
    "\n",
    "import random\n",
    "import os\n",
    "import shutil\n",
    "import pandas as pd\n",
    "import glob"
   ]
  },
  {
   "cell_type": "code",
   "execution_count": null,
   "metadata": {},
   "outputs": [],
   "source": [
    "# notebook_login()"
   ]
  },
  {
   "cell_type": "code",
   "execution_count": 7,
   "metadata": {},
   "outputs": [],
   "source": [
    "AUGMENTED_DATASET_FOLDER = \"../../dataset/dataset_augmented\"\n",
    "DATASET_FOLDER = \"../../dataset/data\"\n",
    "NOISE_FOLDER = \"../../dataset/noise\""
   ]
  },
  {
   "cell_type": "code",
   "execution_count": null,
   "metadata": {},
   "outputs": [],
   "source": [
    "# snapshot_download(\"PFEE-TxE/audio_sampler\", repo_type=\"dataset\", local_dir=DATASET_FOLDER)"
   ]
  },
  {
   "cell_type": "code",
   "execution_count": 3,
   "metadata": {},
   "outputs": [],
   "source": [
    "def copy_data_to_augmented_dataset():\n",
    "    source_dir = DATASET_FOLDER\n",
    "    dest_dir = AUGMENTED_DATASET_FOLDER\n",
    "\n",
    "    if os.path.exists(dest_dir):\n",
    "        shutil.rmtree(dest_dir)\n",
    "\n",
    "    os.makedirs(dest_dir)\n",
    "\n",
    "    for subdir in os.listdir(source_dir):\n",
    "        subdir_path = os.path.join(source_dir, subdir)\n",
    "\n",
    "        if os.path.isdir(subdir_path):\n",
    "            for file in os.listdir(subdir_path):\n",
    "                file_path = os.path.join(subdir_path, file)\n",
    "                shutil.copy(file_path, dest_dir)\n",
    "\n",
    "def merge_audio_with_noise(record_file: str, noise_file: str, noise_name: str):\n",
    "    original = AudioSegment.from_file(record_file)\n",
    "    background_noise = AudioSegment.from_file(noise_file) - 30\n",
    "\n",
    "    background_duration = len(background_noise)\n",
    "\n",
    "    start_point = random.randint(0, background_duration - 2000)\n",
    "    selected_noise = background_noise[start_point:start_point + 2000]\n",
    "\n",
    "    combined = original.overlay(selected_noise)\n",
    "\n",
    "    new_file_name = record_file[:-4] + '_' + noise_name + \".wav\"\n",
    "\n",
    "    combined.export(new_file_name, format='wav')\n",
    "\n",
    "def pitch_shift(audio_file, semitones):\n",
    "    song = AudioSegment.from_file(audio_file, format=\"wav\")\n",
    "    shifted_song = song._spawn(song.raw_data, overrides={\n",
    "        \"frame_rate\": int(song.frame_rate * (2 ** (semitones / 12.0)))\n",
    "    }).set_frame_rate(song.frame_rate)\n",
    "\n",
    "    sign = 'plus' if semitones >= 0 else 'minus'\n",
    "    \n",
    "    new_file_name = audio_file[:-4] + \"_\" + sign + \"_\" + str(abs(semitones)) + \".wav\"\n",
    "\n",
    "    shifted_song.export(new_file_name, format=\"wav\")\n",
    "\n",
    "\n",
    "def generate_augmented_dataset(semitones: [int], noises: [str]) -> None:\n",
    "    copy_data_to_augmented_dataset()\n",
    "    folder = AUGMENTED_DATASET_FOLDER\n",
    "\n",
    "    for file in os.listdir(folder):\n",
    "        path = os.path.join(folder, file)\n",
    "\n",
    "        if os.path.isfile(path):\n",
    "            for semitone in semitones:\n",
    "                pitch_shift(AUGMENTED_DATASET_FOLDER + '/' + file, semitone)\n",
    "\n",
    "    for file in tqdm(os.listdir(folder), desc=\"Processing Files\"):\n",
    "        path = os.path.join(folder, file)\n",
    "\n",
    "        if os.path.isfile(path):\n",
    "            for noise in noises:\n",
    "                merge_audio_with_noise(AUGMENTED_DATASET_FOLDER + '/' + file, NOISE_FOLDER + '/' + noise + '.wav', noise)"
   ]
  },
  {
   "cell_type": "code",
   "execution_count": 4,
   "metadata": {},
   "outputs": [],
   "source": [
    "semitones = [-1, 1]\n",
    "noises = [\"city\", \"classroom\", \"forest\", \"rain\"]"
   ]
  },
  {
   "cell_type": "code",
   "execution_count": 8,
   "metadata": {},
   "outputs": [
    {
     "name": "stderr",
     "output_type": "stream",
     "text": [
      "Processing Files: 100%|██████████| 2052/2052 [14:37<00:00,  2.34it/s]\n"
     ]
    }
   ],
   "source": [
    "generate_augmented_dataset(semitones, noises)"
   ]
  },
  {
   "cell_type": "code",
   "execution_count": 10,
   "metadata": {},
   "outputs": [],
   "source": [
    "def extract_info_corrected(file_name):\n",
    "    # remove everything before the last /\n",
    "    file_path = file_name\n",
    "    file_name = file_name.split('/')[-1]\n",
    "\n",
    "    base_name = file_name[:-4]\n",
    "    parts = base_name.split('_')\n",
    "\n",
    "    pitch = 0\n",
    "    noise = None\n",
    "    origin = parts[0]\n",
    "    label = origin.split('-')[0].lower()\n",
    "\n",
    "    for i in range(len(parts)):\n",
    "        if parts[i] == 'minus':\n",
    "            pitch = -1 * int(parts[i + 1])\n",
    "        elif parts[i] == 'plus':\n",
    "            pitch = int(parts[i + 1])\n",
    "\n",
    "    if not (len(parts) == 1 or len(parts) == 3):\n",
    "        noise = parts[-1]\n",
    "\n",
    "    return origin, label, pitch, noise, file_name, file_path,\n",
    "\n",
    "def load_augmented_data():\n",
    "    list_str = glob.glob(os.path.join(AUGMENTED_DATASET_FOLDER, '*'))\n",
    "\n",
    "    df = pd.DataFrame([extract_info_corrected(file) for file in list_str],\n",
    "                               columns=['origin_file', 'label', 'pitch', 'noise', 'file_name', 'file_path'])\n",
    "\n",
    "    return df"
   ]
  },
  {
   "cell_type": "code",
   "execution_count": 12,
   "metadata": {},
   "outputs": [
    {
     "data": {
      "text/html": [
       "<div>\n",
       "<style scoped>\n",
       "    .dataframe tbody tr th:only-of-type {\n",
       "        vertical-align: middle;\n",
       "    }\n",
       "\n",
       "    .dataframe tbody tr th {\n",
       "        vertical-align: top;\n",
       "    }\n",
       "\n",
       "    .dataframe thead th {\n",
       "        text-align: right;\n",
       "    }\n",
       "</style>\n",
       "<table border=\"1\" class=\"dataframe\">\n",
       "  <thead>\n",
       "    <tr style=\"text-align: right;\">\n",
       "      <th></th>\n",
       "      <th>origin_file</th>\n",
       "      <th>label</th>\n",
       "      <th>pitch</th>\n",
       "      <th>noise</th>\n",
       "      <th>file_name</th>\n",
       "      <th>file_path</th>\n",
       "    </tr>\n",
       "  </thead>\n",
       "  <tbody>\n",
       "    <tr>\n",
       "      <th>0</th>\n",
       "      <td>Accacia-cfeba5f4</td>\n",
       "      <td>accacia</td>\n",
       "      <td>0</td>\n",
       "      <td>classroom</td>\n",
       "      <td>Accacia-cfeba5f4_classroom.wav</td>\n",
       "      <td>../../dataset/dataset_augmented/Accacia-cfeba5...</td>\n",
       "    </tr>\n",
       "    <tr>\n",
       "      <th>1</th>\n",
       "      <td>Bouleau-ddf0a5d1</td>\n",
       "      <td>bouleau</td>\n",
       "      <td>0</td>\n",
       "      <td>forest</td>\n",
       "      <td>Bouleau-ddf0a5d1_forest.wav</td>\n",
       "      <td>../../dataset/dataset_augmented/Bouleau-ddf0a5...</td>\n",
       "    </tr>\n",
       "    <tr>\n",
       "      <th>2</th>\n",
       "      <td>Sapin-c26f8166</td>\n",
       "      <td>sapin</td>\n",
       "      <td>-1</td>\n",
       "      <td>rain</td>\n",
       "      <td>Sapin-c26f8166_minus_1_rain.wav</td>\n",
       "      <td>../../dataset/dataset_augmented/Sapin-c26f8166...</td>\n",
       "    </tr>\n",
       "    <tr>\n",
       "      <th>3</th>\n",
       "      <td>Accacia-1612e592</td>\n",
       "      <td>accacia</td>\n",
       "      <td>-1</td>\n",
       "      <td>classroom</td>\n",
       "      <td>Accacia-1612e592_minus_1_classroom.wav</td>\n",
       "      <td>../../dataset/dataset_augmented/Accacia-1612e5...</td>\n",
       "    </tr>\n",
       "    <tr>\n",
       "      <th>4</th>\n",
       "      <td>Bouleau-c7bbd516</td>\n",
       "      <td>bouleau</td>\n",
       "      <td>-1</td>\n",
       "      <td>city</td>\n",
       "      <td>Bouleau-c7bbd516_minus_1_city.wav</td>\n",
       "      <td>../../dataset/dataset_augmented/Bouleau-c7bbd5...</td>\n",
       "    </tr>\n",
       "  </tbody>\n",
       "</table>\n",
       "</div>"
      ],
      "text/plain": [
       "        origin_file    label  pitch      noise  \\\n",
       "0  Accacia-cfeba5f4  accacia      0  classroom   \n",
       "1  Bouleau-ddf0a5d1  bouleau      0     forest   \n",
       "2    Sapin-c26f8166    sapin     -1       rain   \n",
       "3  Accacia-1612e592  accacia     -1  classroom   \n",
       "4  Bouleau-c7bbd516  bouleau     -1       city   \n",
       "\n",
       "                                file_name  \\\n",
       "0          Accacia-cfeba5f4_classroom.wav   \n",
       "1             Bouleau-ddf0a5d1_forest.wav   \n",
       "2         Sapin-c26f8166_minus_1_rain.wav   \n",
       "3  Accacia-1612e592_minus_1_classroom.wav   \n",
       "4       Bouleau-c7bbd516_minus_1_city.wav   \n",
       "\n",
       "                                           file_path  \n",
       "0  ../../dataset/dataset_augmented/Accacia-cfeba5...  \n",
       "1  ../../dataset/dataset_augmented/Bouleau-ddf0a5...  \n",
       "2  ../../dataset/dataset_augmented/Sapin-c26f8166...  \n",
       "3  ../../dataset/dataset_augmented/Accacia-1612e5...  \n",
       "4  ../../dataset/dataset_augmented/Bouleau-c7bbd5...  "
      ]
     },
     "execution_count": 12,
     "metadata": {},
     "output_type": "execute_result"
    }
   ],
   "source": [
    "data = load_augmented_data()\n",
    "data.head(5)"
   ]
  }
 ],
 "metadata": {
  "kernelspec": {
   "display_name": "Python 3",
   "language": "python",
   "name": "python3"
  },
  "language_info": {
   "codemirror_mode": {
    "name": "ipython",
    "version": 3
   },
   "file_extension": ".py",
   "mimetype": "text/x-python",
   "name": "python",
   "nbconvert_exporter": "python",
   "pygments_lexer": "ipython3",
   "version": "3.10.13"
  }
 },
 "nbformat": 4,
 "nbformat_minor": 2
}
